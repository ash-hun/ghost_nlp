{
 "cells": [
  {
   "cell_type": "markdown",
   "metadata": {},
   "source": [
    "# DistillBERT Fine-Tuning & Evaluation"
   ]
  },
  {
   "cell_type": "code",
   "execution_count": 1,
   "metadata": {},
   "outputs": [
    {
     "name": "stdout",
     "output_type": "stream",
     "text": [
      "(2, 'This movie documents the Harlem ball circuit of the mid eighties. Much more fun than than Palazzo Volpi, though just as diseased, this movie is a true gem of squalor. One cannot help but sympathize with the characters because of their freakness . The sole purpose of middle class intellectuals is to document the phenomenons of the trash and the glitz. Here the most genius of trash is extremely well documented and duly glamorized. The characters\\' penchant for idolatry of all that is glamorous inspires even more adoration of the characters themselves on part of the viewer, creating a \"phenomenon of a phenomenon\" effect which makes this movie a piece of art.')\n",
      "(1, 'Well, the first thing I saw after looking at the DVD box was \"Best Screenplay\" and thought this would be a good rental. WOW, was I mistaken! I\\'m sure at one time there was a good movie in here, but after the incredibly poor acting and \"video game\" production values, this ends up looking like Tron\\'s retarded half-brother. The first scene sets up the overall atmosphere of the entire movie. Five minutes into it, you\\'ll be asking yourself, \"What the Hell am i watching?\", and it will just snowball from there. An awful soundtrack that makes every song sound like Rob Zombie\\'s \"Dragula\" rounds out this miserable piece of crap into a laughably bad movie. On a side note, #3 most romantic quote in a movie - \"I think you\\'re the final destination.\"')\n"
     ]
    }
   ],
   "source": [
    "from torchtext.datasets import IMDB\n",
    "import random\n",
    "\n",
    "train_iter = IMDB(split='train')\n",
    "test_iter = IMDB(split='test')\n",
    "\n",
    "train_lists = list(train_iter)\n",
    "test_lists = list(test_iter)\n",
    "\n",
    "train_lists_small = random.sample(train_lists, 1000)\n",
    "test_lists_small = random.sample(test_lists, 1000)\n",
    "\n",
    "print(train_lists_small[0])\n",
    "print(test_lists_small[0])\n"
   ]
  },
  {
   "cell_type": "code",
   "execution_count": null,
   "metadata": {},
   "outputs": [],
   "source": []
  }
 ],
 "metadata": {
  "kernelspec": {
   "display_name": "torch",
   "language": "python",
   "name": "python3"
  },
  "language_info": {
   "codemirror_mode": {
    "name": "ipython",
    "version": 3
   },
   "file_extension": ".py",
   "mimetype": "text/x-python",
   "name": "python",
   "nbconvert_exporter": "python",
   "pygments_lexer": "ipython3",
   "version": "3.8.16"
  },
  "orig_nbformat": 4
 },
 "nbformat": 4,
 "nbformat_minor": 2
}
